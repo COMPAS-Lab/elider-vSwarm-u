{
 "cells": [
  {
   "cell_type": "markdown",
   "metadata": {},
   "source": [
    "# Analyse gem5 results"
   ]
  },
  {
   "cell_type": "code",
   "execution_count": 1,
   "metadata": {},
   "outputs": [],
   "source": [
    "import gem5_utils as gu\n",
    "import csv\n",
    "import json"
   ]
  },
  {
   "cell_type": "code",
   "execution_count": 2,
   "metadata": {},
   "outputs": [],
   "source": [
    "results_path = \"../wkdir/results/\"\n",
    "\n",
    "benchmarks = [\n",
    "    \"fibonacci-go\",\n",
    "    \"fibonacci-nodejs\",\n",
    "    \"fibonacci-python\",\n",
    "]\n",
    "\n",
    "results = []\n",
    "for benchmark in benchmarks:\n",
    "    dir = \"{}/{}\".format(results_path, benchmark)\n",
    "    results.append(gu.parse_result(dir,benchmark=benchmark))\n"
   ]
  },
  {
   "cell_type": "code",
   "execution_count": 3,
   "metadata": {},
   "outputs": [],
   "source": [
    "gu.to_csv(results_path + '/results.csv', results, [\n",
    "    ('Benchmark', lambda r: r.props['benchmark']),\n",
    "    ('Cycles', lambda r: r.stats[0]['system.detailed_cpu1.numCycles']),\n",
    "    ('Instructions', lambda r: r.stats[0]['system.detailed_cpu1.exec_context.thread_0.numInsts']),\n",
    "    # ('L2 Miss Rate', lambda r: r.stats[0]['system.l2.overall_miss_rate::total']),\n",
    "    ('IPC', lambda r: r.stats[0]['system.detailed_cpu1.ipc']),\n",
    "    ('CPI', lambda r: r.stats[0]['system.detailed_cpu1.cpi']),\n",
    "])"
   ]
  },
  {
   "cell_type": "code",
   "execution_count": 6,
   "metadata": {},
   "outputs": [],
   "source": [
    "\n",
    "gu.generate_plot(results_path + '/results.csv', results_path + '/ipc.pdf',\n",
    "                    'Benchmark', \"IPC\", None, \"IPC\")"
   ]
  }
 ],
 "metadata": {
  "interpreter": {
   "hash": "31f2aee4e71d21fbe5cf8b01ff0e069b9275f58929596ceb00d14d90e3e16cd6"
  },
  "kernelspec": {
   "display_name": "Python 3.8.10 64-bit",
   "language": "python",
   "name": "python3"
  },
  "language_info": {
   "codemirror_mode": {
    "name": "ipython",
    "version": 3
   },
   "file_extension": ".py",
   "mimetype": "text/x-python",
   "name": "python",
   "nbconvert_exporter": "python",
   "pygments_lexer": "ipython3",
   "version": "3.8.10"
  },
  "orig_nbformat": 4
 },
 "nbformat": 4,
 "nbformat_minor": 2
}
